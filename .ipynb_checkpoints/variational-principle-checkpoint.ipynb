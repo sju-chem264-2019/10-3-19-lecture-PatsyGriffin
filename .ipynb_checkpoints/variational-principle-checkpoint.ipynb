{
 "cells": [
  {
   "cell_type": "markdown",
   "metadata": {},
   "source": [
    "# Variational Principle  using Symbolic Mathematics in Python "
   ]
  },
  {
   "cell_type": "markdown",
   "metadata": {},
   "source": [
    "## 1. Introduction"
   ]
  },
  {
   "cell_type": "markdown",
   "metadata": {},
   "source": [
    "The variational principle tells us that we can use a trial wavefunction to solve the Schrodinger equation using the following theorem:\n",
    "\n",
    "$${{\\int {{\\Psi ^*}\\hat H{\\rm{ }}\\Psi } d\\tau } \\over {\\int {{\\Psi ^*}\\Psi } d\\tau }} \\ge {E_0}$$\n",
    "\n",
    "We will use Sympy to solve the particle in a box problem by guessing a trial wavefunction using variational principle"
   ]
  },
  {
   "cell_type": "code",
   "execution_count": 1,
   "metadata": {},
   "outputs": [],
   "source": [
    "import sympy as sym"
   ]
  },
  {
   "cell_type": "markdown",
   "metadata": {},
   "source": [
    "This exercise is a bit more self-guided than the other notebooks we have done. One of the most useful things you can do is **open last week's notebook to remember the commands in sympy**. Also, remember that google is your friend:\n",
    "\n",
    "1. [Sympy tutorial](https://docs.sympy.org/latest/tutorial/index.html)\n",
    "2. [Stack Overflow](https://stackoverflow.com/search?q=sympy+)\n",
    "3. [Stack Exchange](https://stackexchange.com/)"
   ]
  },
  {
   "cell_type": "markdown",
   "metadata": {},
   "source": [
    "## 2. Particle in a box"
   ]
  },
  {
   "cell_type": "markdown",
   "metadata": {},
   "source": [
    "The wave function that we pick for a particle in a box needs to have the following properties\n",
    "\n",
    "1. single valued\n",
    "1. normalizable\n",
    "1. function and its first derivative are continuous \n",
    "1. boundary condition that the wave function goes to zero at the ends of the box\n",
    "\n",
    "![Particle in a box](InfiniteSquareWellAnimation.gif)\n",
    "\n",
    "Particle in a box: a is a classical particle, red is real part, blue is imaginary part."
   ]
  },
  {
   "cell_type": "markdown",
   "metadata": {},
   "source": [
    "This particle only expericnes kinetic energy between the box, so the Hamiltonian for this system is\n",
    "\n",
    "$$\\hat H = {{ - {\\hbar ^2}} \\over {2m}}{{{d^2}} \\over {d{x^2}}} + \\left\\{ {\\matrix{{V(x) = 0} & {0 < x < a}  \\cr {V(x) = \\infty } & {x < 0\\text{ }{\\rm{ or}}\\;x > a}  \\cr } } \\right.$$\n",
    "\n",
    "For our purposes, that means we can consider the Hamiltonian to be \n",
    "\n",
    "$$\\hat H = {{ - {\\hbar ^2}} \\over {2m}}{{{d^2}} \\over {d{x^2}}}$$\n",
    "\n",
    "as long as we keep the limits of integration to be $(0,a)$"
   ]
  },
  {
   "cell_type": "markdown",
   "metadata": {},
   "source": [
    "### 2.1 Trial Wave function"
   ]
  },
  {
   "cell_type": "markdown",
   "metadata": {},
   "source": [
    "Although the particle in box has a well known solution\n",
    "\n",
    "[https://en.wikipedia.org/wiki/Particle_in_a_box](https://en.wikipedia.org/wiki/Particle_in_a_box)\n",
    "\n",
    "(or check your favorite pchem book)\n",
    "\n",
    "We are going to guess a trial wave function:\n",
    "\n",
    "$$\\Phi (x) = \\left( {{x \\over a} - {{{x^3}} \\over a}} \\right) + \\alpha \\left( {{{{x^5}} \\over {{a^5}}} - {1 \\over 2}\\left( {{{{x^7}} \\over {{a^7}}} + {{{x^7}} \\over {{a^7}}}} \\right)} \\right)$$"
   ]
  },
  {
   "cell_type": "markdown",
   "metadata": {},
   "source": [
    "### 2.2 Exercise: Variational Theorem"
   ]
  },
  {
   "cell_type": "markdown",
   "metadata": {},
   "source": [
    "We are going to follow the following plan:\n",
    "\n",
    "1. Solve for the energy of the trial wave function above  \n",
    "\n",
    "$${E_{trial}} = {{\\int\\limits_0^a {\\Phi (x){{ - {\\hbar ^2}} \\over {2m}}{{{d^2}} \\over {d{x^2}}}\\Phi (x)dx} } \\over {\\int\\limits_0^a {\\Phi {{(x)}^2}dx} }}$$\n",
    "\n",
    "Your answer will be a function of $ m,a,\\text{and } \\alpha$ We will use $\\alpha$ as the parameter we vary to minimize the energy and make a new trial wave function.\n",
    "\n",
    "2. Minimize the trial energy \n",
    "We will use a first derivative of the trial energy $${d \\over {d\\alpha }}{E_{trial}}(\\alpha )$$ to find the value of $\\alpha$ that gives you the lowest energy\n",
    "\n",
    "\n",
    "3. Plot your new wavefunction compared to the ground state particle in a box: $${\\psi _{true}}(x) = {\\left( {{2 \\over a}} \\right)^{1/2}}\\sin {{n\\pi x} \\over a}$$ Plot as a function of $x/a$ from $0$ to $1$. Assuming this has $m=m_e$, and $a=a_0$ use atomic (theorist) units to plot the function.\n",
    "\n",
    "4. Compare your trial energy to the actual energy (using atomic units)\n",
    "$${E_{true}}(n = 1) = {{{\\hbar ^2}{\\pi ^2}} \\over {2m{a^2}}}$$\n"
   ]
  },
  {
   "cell_type": "code",
   "execution_count": 2,
   "metadata": {
    "scrolled": false
   },
   "outputs": [],
   "source": [
    "import sympy as sym\n",
    "a,x,m,alpha = sym.symbols('a,x,m,alpha')\n",
    "sym.Rational(1/2)\n",
    "sym.init_printing()"
   ]
  },
  {
   "cell_type": "code",
   "execution_count": 3,
   "metadata": {},
   "outputs": [],
   "source": [
    "phi = ((x/a)-(x**3/a**3)+ alpha*((x**5/a**5)-1/2*(x**9/a**9+x**9/a**9)))\n",
    "num1 = (phi*sym.Rational(-1/2))\n",
    "num2 = sym.diff(sym.diff(phi,x),x)\n",
    "den1 = (phi**2)"
   ]
  },
  {
   "cell_type": "code",
   "execution_count": 4,
   "metadata": {},
   "outputs": [],
   "source": [
    "Numerator = sym.integrate((num1*num2),(x,0,a))"
   ]
  },
  {
   "cell_type": "code",
   "execution_count": 5,
   "metadata": {},
   "outputs": [],
   "source": [
    "Denominator = sym.integrate((den1),(x,0,a))"
   ]
  },
  {
   "cell_type": "markdown",
   "metadata": {},
   "source": [
    "Your descriptions/explanations here"
   ]
  },
  {
   "cell_type": "code",
   "execution_count": 6,
   "metadata": {},
   "outputs": [
    {
     "data": {
      "image/png": "[encoded data removed]",
      "text/latex": [
       "$\\displaystyle \\frac{\\frac{1.42081447963801 \\alpha^{2}}{a} - \\frac{1.68831168831169 \\alpha}{a} + \\frac{0.2 \\left(- 10.0 \\alpha - 3.0\\right)}{a} + \\frac{0.111111111111111 \\left(- 10.0 \\alpha^{2} + 36.0 \\alpha\\right)}{a} + \\frac{1.0}{a}}{- 0.0807017543859649 a \\alpha^{2} - 0.0683760683760684 a \\alpha + 0.142857142857143 a \\left(2.0 \\alpha + 1.0\\right) + 0.0909090909090909 a \\left(1.0 \\alpha^{2} - 2.0 \\alpha\\right) - 0.0666666666666667 a}$"
      ],
      "text/plain": [
       "                                      2                                       \n",
       "                    1.42081447963801⋅α    1.68831168831169⋅α   0.2⋅(-10.0⋅α - \n",
       "                    ─────────────────── - ────────────────── + ───────────────\n",
       "                             a                    a                     a     \n",
       "──────────────────────────────────────────────────────────────────────────────\n",
       "                        2                                                     \n",
       "- 0.0807017543859649⋅a⋅α  - 0.0683760683760684⋅a⋅α + 0.142857142857143⋅a⋅(2.0⋅\n",
       "\n",
       "                         ⎛        2         ⎞                          \n",
       "3.0)   0.111111111111111⋅⎝- 10.0⋅α  + 36.0⋅α⎠   1.0                    \n",
       "──── + ────────────────────────────────────── + ───                    \n",
       "                         a                       a                     \n",
       "───────────────────────────────────────────────────────────────────────\n",
       "                                ⎛     2        ⎞                       \n",
       "α + 1.0) + 0.0909090909090909⋅a⋅⎝1.0⋅α  - 2.0⋅α⎠ - 0.0666666666666667⋅a"
      ]
     },
     "execution_count": 6,
     "metadata": {},
     "output_type": "execute_result"
    }
   ],
   "source": [
    "Numerator/Denominator"
   ]
  },
  {
   "cell_type": "code",
   "execution_count": 7,
   "metadata": {},
   "outputs": [
    {
     "data": {
      "image/png": "[encoded data removed]",
      "text/latex": [
       "$\\displaystyle \\frac{0.309703368526898 \\alpha^{2} + 0.311688311688312 \\alpha + 0.4}{0.010207336523126 \\alpha^{2} + 0.0355200355200355 \\alpha + 0.0761904761904761}$"
      ],
      "text/plain": [
       "                           2                                    \n",
       "        0.309703368526898⋅α  + 0.311688311688312⋅α + 0.4        \n",
       "────────────────────────────────────────────────────────────────\n",
       "                   2                                            \n",
       "0.010207336523126⋅α  + 0.0355200355200355⋅α + 0.0761904761904761"
      ]
     },
     "execution_count": 7,
     "metadata": {},
     "output_type": "execute_result"
    }
   ],
   "source": [
    "E_trial = (Numerator/Denominator).subs(a,1)\n",
    "E_trial"
   ]
  },
  {
   "cell_type": "code",
   "execution_count": 8,
   "metadata": {},
   "outputs": [
    {
     "data": {
      "image/png": "[encoded data removed]",
      "text/latex": [
       "$\\displaystyle \\left\\{-4.73345207773701, -0.257747652303185\\right\\}$"
      ],
      "text/plain": [
       "{-4.73345207773701, -0.257747652303185}"
      ]
     },
     "execution_count": 8,
     "metadata": {},
     "output_type": "execute_result"
    }
   ],
   "source": [
    "sym.solveset(sym.diff(E_trial,alpha))"
   ]
  },
  {
   "cell_type": "code",
   "execution_count": 9,
   "metadata": {},
   "outputs": [
    {
     "data": {
      "image/png": "[encoded data removed]",
      "text/latex": [
       "$\\displaystyle 5.02467668289965$"
      ],
      "text/plain": [
       "5.02467668289965"
      ]
     },
     "execution_count": 9,
     "metadata": {},
     "output_type": "execute_result"
    }
   ],
   "source": [
    "E_trial.subs(alpha, -0.257747652303185)"
   ]
  },
  {
   "cell_type": "code",
   "execution_count": 10,
   "metadata": {},
   "outputs": [
    {
     "data": {
      "image/png": "[encoded data removed]",
      "text/latex": [
       "$\\displaystyle 42.8762045251218$"
      ],
      "text/plain": [
       "42.8762045251218"
      ]
     },
     "execution_count": 10,
     "metadata": {},
     "output_type": "execute_result"
    }
   ],
   "source": [
    "E_trial.subs(alpha, -4.73345207773701)"
   ]
  },
  {
   "cell_type": "code",
   "execution_count": 42,
   "metadata": {},
   "outputs": [
    {
     "data": {
      "image/png": "[encoded data removed]",
      "text/latex": [
       "$\\displaystyle \\frac{x}{a} - \\frac{x^{3}}{a^{3}} - \\frac{0.257747652303185 x^{5}}{a^{5}} + \\frac{0.257747652303185 x^{9}}{a^{9}}$"
      ],
      "text/plain": [
       "     3                      5                      9\n",
       "x   x    0.257747652303185⋅x    0.257747652303185⋅x \n",
       "─ - ── - ──────────────────── + ────────────────────\n",
       "a    3             5                      9         \n",
       "    a             a                      a          "
      ]
     },
     "execution_count": 42,
     "metadata": {},
     "output_type": "execute_result"
    }
   ],
   "source": [
    "Newphi = phi.subs(alpha, -0.257747652303185)\n",
    "Newphi"
   ]
  },
  {
   "cell_type": "code",
   "execution_count": 43,
   "metadata": {},
   "outputs": [
    {
     "data": {
      "image/png": "[encoded data removed]",
      "text/latex": [
       "$\\displaystyle 0.257747652303185 x^{9} - 0.257747652303185 x^{5} - x^{3} + x$"
      ],
      "text/plain": [
       "                   9                      5    3    \n",
       "0.257747652303185⋅x  - 0.257747652303185⋅x  - x  + x"
      ]
     },
     "execution_count": 43,
     "metadata": {},
     "output_type": "execute_result"
    }
   ],
   "source": [
    "Newphi2 = Newphi.subs(a,1)\n",
    "Newphi2"
   ]
  },
  {
   "cell_type": "code",
   "execution_count": 44,
   "metadata": {},
   "outputs": [
    {
     "data": {
      "image/png": "[encoded data removed]",
      "text/plain": [
       "<Figure size 432x288 with 1 Axes>"
      ]
     },
     "metadata": {
      "needs_background": "light"
     },
     "output_type": "display_data"
    },
    {
     "data": {
      "text/plain": [
       "<sympy.plotting.plot.Plot at 0x117e51780>"
      ]
     },
     "execution_count": 44,
     "metadata": {},
     "output_type": "execute_result"
    }
   ],
   "source": [
    "sym.plot(Newphi2,(x,0,1))"
   ]
  },
  {
   "cell_type": "code",
   "execution_count": 45,
   "metadata": {},
   "outputs": [
    {
     "data": {
      "image/png": "[encoded data removed]",
      "text/plain": [
       "<Figure size 432x288 with 1 Axes>"
      ]
     },
     "metadata": {
      "needs_background": "light"
     },
     "output_type": "display_data"
    },
    {
     "data": {
      "text/plain": [
       "<sympy.plotting.plot.Plot at 0x117b798d0>"
      ]
     },
     "execution_count": 45,
     "metadata": {},
     "output_type": "execute_result"
    }
   ],
   "source": [
    "sym.plot((2**1/2)*sym.sin(sym.pi*x),(x,0,1))"
   ]
  },
  {
   "cell_type": "code",
   "execution_count": 46,
   "metadata": {},
   "outputs": [
    {
     "data": {
      "image/png": "[encoded data removed]",
      "text/plain": [
       "<Figure size 432x288 with 1 Axes>"
      ]
     },
     "metadata": {
      "needs_background": "light"
     },
     "output_type": "display_data"
    },
    {
     "data": {
      "text/plain": [
       "<sympy.plotting.plot.Plot at 0x117949908>"
      ]
     },
     "execution_count": 46,
     "metadata": {},
     "output_type": "execute_result"
    }
   ],
   "source": [
    "sym.plot((2**1/2)*sym.sin(sym.pi*x),Newphi2,(x,0,1))"
   ]
  },
  {
   "cell_type": "code",
   "execution_count": 47,
   "metadata": {},
   "outputs": [
    {
     "data": {
      "image/png": "[encoded data removed]",
      "text/latex": [
       "$\\displaystyle \\frac{\\pi^{2}}{2 m}$"
      ],
      "text/plain": [
       "  2\n",
       " π \n",
       "───\n",
       "2⋅m"
      ]
     },
     "execution_count": 47,
     "metadata": {},
     "output_type": "execute_result"
    }
   ],
   "source": [
    "E_true = sym.pi**2/(2*m)\n",
    "E_true"
   ]
  },
  {
   "cell_type": "markdown",
   "metadata": {},
   "source": [
    "### 2.3 Exercise: New trial wavefunction"
   ]
  },
  {
   "cell_type": "markdown",
   "metadata": {},
   "source": [
    "Determine the minimum energy of the particle in a box using a new trial wavefunction $$x^\\alpha(x-a)^\\alpha$$\n",
    "\n",
    "1. Find the minimum energy, $E_{trial}$\n",
    "2. Plot the new trial wavefunction and compare it to the true solution and the wavefunction you found above\n",
    "3. Compare you new energy to the trial energy you found above\n",
    "4. Which wavefunction is better? How do you know?"
   ]
  },
  {
   "cell_type": "code",
   "execution_count": 48,
   "metadata": {},
   "outputs": [],
   "source": [
    "#Plug in 1 for a, after you solve for values, first find the first derivative of part 1 function in terms of alpha \n",
    "#After you solve both plug them into E trial and see which gives you the lower E value"
   ]
  },
  {
   "cell_type": "code",
   "execution_count": 49,
   "metadata": {},
   "outputs": [
    {
     "data": {
      "image/png": "[encoded data removed]",
      "text/latex": [
       "$\\displaystyle x^{\\alpha} \\left(- a + x\\right)^{\\alpha}$"
      ],
      "text/plain": [
       " α         α\n",
       "x ⋅(-a + x) "
      ]
     },
     "execution_count": 49,
     "metadata": {},
     "output_type": "execute_result"
    }
   ],
   "source": [
    "phhi = (x**alpha)*(x-a)**alpha\n",
    "phhi"
   ]
  },
  {
   "cell_type": "code",
   "execution_count": 50,
   "metadata": {},
   "outputs": [
    {
     "data": {
      "image/png": "[encoded data removed]",
      "text/latex": [
       "$\\displaystyle \\frac{\\alpha \\int\\limits_{0}^{a} \\frac{x^{2 \\alpha} \\left(- a + x\\right)^{2 \\alpha} \\left(a^{2} \\alpha - a^{2} - 4 a \\alpha x + 2 a x + 4 \\alpha x^{2} - 2 x^{2}\\right)}{x^{2} \\left(- a + x\\right)^{2}}\\, dx}{2}$"
      ],
      "text/plain": [
       "  a                                                                  \n",
       "  ⌠                                                                  \n",
       "  ⎮  2⋅α         2⋅α ⎛ 2      2                          2      2⎞   \n",
       "  ⎮ x   ⋅(-a + x)   ⋅⎝a ⋅α - a  - 4⋅a⋅α⋅x + 2⋅a⋅x + 4⋅α⋅x  - 2⋅x ⎠   \n",
       "α⋅⎮ ────────────────────────────────────────────────────────────── dx\n",
       "  ⎮                           2         2                            \n",
       "  ⎮                          x ⋅(-a + x)                             \n",
       "  ⌡                                                                  \n",
       "  0                                                                  \n",
       "─────────────────────────────────────────────────────────────────────\n",
       "                                  2                                  "
      ]
     },
     "execution_count": 50,
     "metadata": {},
     "output_type": "execute_result"
    }
   ],
   "source": [
    "num11 = (phhi*sym.Rational(1/2))\n",
    "num21 = sym.diff(sym.diff(phhi,x),x)\n",
    "den11 = (phhi**2)\n",
    "Numerator2 = sym.integrate((num11*num21),(x,0,a))\n",
    "Numerator2\n"
   ]
  },
  {
   "cell_type": "code",
   "execution_count": 51,
   "metadata": {},
   "outputs": [
    {
     "data": {
      "text/latex": [
       "$\\displaystyle \\frac{a a^{4 \\alpha} e^{2 i \\pi \\alpha} \\Gamma\\left(2 \\alpha + 1\\right) {{}_{2}F_{1}\\left(\\begin{matrix} - 2 \\alpha, 2 \\alpha + 1 \\\\ 2 \\alpha + 2 \\end{matrix}\\middle| {1} \\right)}}{\\Gamma\\left(2 \\alpha + 2\\right)}$"
      ],
      "text/plain": [
       "   4⋅α  2⋅ⅈ⋅π⋅α             ┌─  ⎛-2⋅α, 2⋅α + 1 │  ⎞\n",
       "a⋅a   ⋅ℯ       ⋅Γ(2⋅α + 1)⋅ ├─  ⎜              │ 1⎟\n",
       "                           2╵ 1 ⎝   2⋅α + 2    │  ⎠\n",
       "───────────────────────────────────────────────────\n",
       "                     Γ(2⋅α + 2)                    "
      ]
     },
     "execution_count": 51,
     "metadata": {},
     "output_type": "execute_result"
    }
   ],
   "source": [
    "Denominator2 = sym.integrate((den11),(x,0,a))\n",
    "Denominator2"
   ]
  },
  {
   "cell_type": "code",
   "execution_count": 52,
   "metadata": {},
   "outputs": [
    {
     "data": {
      "text/latex": [
       "$\\displaystyle \\frac{\\alpha e^{- 2 i \\pi \\alpha} \\Gamma\\left(2 \\alpha + 2\\right) \\int\\limits_{0}^{1} \\frac{x^{2 \\alpha} \\left(x - 1\\right)^{2 \\alpha} \\left(4 \\alpha x^{2} - 4 \\alpha x + \\alpha - 2 x^{2} + 2 x - 1\\right)}{x^{2} \\left(x - 1\\right)^{2}}\\, dx}{2 \\Gamma\\left(2 \\alpha + 1\\right) {{}_{2}F_{1}\\left(\\begin{matrix} - 2 \\alpha, 2 \\alpha + 1 \\\\ 2 \\alpha + 2 \\end{matrix}\\middle| {1} \\right)}}$"
      ],
      "text/plain": [
       "                       1                                                      \n",
       "                       ⌠                                                      \n",
       "                       ⎮  2⋅α        2⋅α ⎛     2                  2          ⎞\n",
       "   -2⋅ⅈ⋅π⋅α            ⎮ x   ⋅(x - 1)   ⋅⎝4⋅α⋅x  - 4⋅α⋅x + α - 2⋅x  + 2⋅x - 1⎠\n",
       "α⋅ℯ        ⋅Γ(2⋅α + 2)⋅⎮ ─────────────────────────────────────────────────────\n",
       "                       ⎮                       2        2                     \n",
       "                       ⎮                      x ⋅(x - 1)                      \n",
       "                       ⌡                                                      \n",
       "                       0                                                      \n",
       "──────────────────────────────────────────────────────────────────────────────\n",
       "                                    ┌─  ⎛-2⋅α, 2⋅α + 1 │  ⎞                   \n",
       "                      2⋅Γ(2⋅α + 1)⋅ ├─  ⎜              │ 1⎟                   \n",
       "                                   2╵ 1 ⎝   2⋅α + 2    │  ⎠                   \n",
       "\n",
       "   \n",
       "   \n",
       "   \n",
       "   \n",
       " dx\n",
       "   \n",
       "   \n",
       "   \n",
       "   \n",
       "───\n",
       "   \n",
       "   \n",
       "   "
      ]
     },
     "execution_count": 52,
     "metadata": {},
     "output_type": "execute_result"
    }
   ],
   "source": [
    "E_trial2 = (Numerator2/Denominator2).subs(a,1)\n",
    "E_trial2"
   ]
  },
  {
   "cell_type": "code",
   "execution_count": 53,
   "metadata": {},
   "outputs": [
    {
     "data": {
      "text/latex": [
       "$\\displaystyle \\left\\{\\alpha \\mid \\alpha \\in \\mathbb{C} \\wedge \\left(- 2 \\alpha {{}_{2}F_{1}\\left(\\begin{matrix} - 2 \\alpha, 2 \\alpha + 1 \\\\ 2 \\alpha + 2 \\end{matrix}\\middle| {1} \\right)} \\operatorname{polygamma}{\\left(0,2 \\alpha + 1 \\right)} \\int\\limits_{0}^{1} \\frac{x^{2 \\alpha} \\left(x - 1\\right)^{2 \\alpha} \\left(4 \\alpha x^{2} - 4 \\alpha x + \\alpha - 2 x^{2} + 2 x - 1\\right)}{x^{2} \\left(x - 1\\right)^{2}}\\, dx + 2 \\alpha {{}_{2}F_{1}\\left(\\begin{matrix} - 2 \\alpha, 2 \\alpha + 1 \\\\ 2 \\alpha + 2 \\end{matrix}\\middle| {1} \\right)} \\operatorname{polygamma}{\\left(0,2 \\alpha + 2 \\right)} \\int\\limits_{0}^{1} \\frac{x^{2 \\alpha} \\left(x - 1\\right)^{2 \\alpha} \\left(4 \\alpha x^{2} - 4 \\alpha x + \\alpha - 2 x^{2} + 2 x - 1\\right)}{x^{2} \\left(x - 1\\right)^{2}}\\, dx + \\alpha {{}_{2}F_{1}\\left(\\begin{matrix} - 2 \\alpha, 2 \\alpha + 1 \\\\ 2 \\alpha + 2 \\end{matrix}\\middle| {1} \\right)} \\int\\limits_{0}^{1} \\frac{x^{2 \\alpha} \\left(x - 1\\right)^{2 \\alpha} \\left(4 x^{2} - 4 x + 2 \\left(4 \\alpha x^{2} - 4 \\alpha x + \\alpha - 2 x^{2} + 2 x - 1\\right) \\log{\\left(x \\right)} + 2 \\left(4 \\alpha x^{2} - 4 \\alpha x + \\alpha - 2 x^{2} + 2 x - 1\\right) \\log{\\left(x - 1 \\right)} + 1\\right)}{x^{2} \\left(x - 1\\right)^{2}}\\, dx - 2 i \\pi \\alpha {{}_{2}F_{1}\\left(\\begin{matrix} - 2 \\alpha, 2 \\alpha + 1 \\\\ 2 \\alpha + 2 \\end{matrix}\\middle| {1} \\right)} \\int\\limits_{0}^{1} \\frac{x^{2 \\alpha} \\left(x - 1\\right)^{2 \\alpha} \\left(4 \\alpha x^{2} - 4 \\alpha x + \\alpha - 2 x^{2} + 2 x - 1\\right)}{x^{2} \\left(x - 1\\right)^{2}}\\, dx - \\alpha \\frac{d}{d \\alpha} {{}_{2}F_{1}\\left(\\begin{matrix} - 2 \\alpha, 2 \\alpha + 1 \\\\ 2 \\alpha + 2 \\end{matrix}\\middle| {1} \\right)} \\int\\limits_{0}^{1} \\frac{x^{2 \\alpha} \\left(x - 1\\right)^{2 \\alpha} \\left(4 \\alpha x^{2} - 4 \\alpha x + \\alpha - 2 x^{2} + 2 x - 1\\right)}{x^{2} \\left(x - 1\\right)^{2}}\\, dx + {{}_{2}F_{1}\\left(\\begin{matrix} - 2 \\alpha, 2 \\alpha + 1 \\\\ 2 \\alpha + 2 \\end{matrix}\\middle| {1} \\right)} \\int\\limits_{0}^{1} \\frac{x^{2 \\alpha} \\left(x - 1\\right)^{2 \\alpha} \\left(4 \\alpha x^{2} - 4 \\alpha x + \\alpha - 2 x^{2} + 2 x - 1\\right)}{x^{2} \\left(x - 1\\right)^{2}}\\, dx\\right) \\Gamma\\left(2 \\left(\\alpha + 1\\right)\\right) = 0 \\right\\} \\setminus \\left\\{\\alpha \\mid \\alpha \\in \\mathbb{C} \\wedge e^{2 i \\pi \\alpha} \\Gamma\\left(2 \\alpha + 1\\right) {{{}_{2}F_{1}\\left(\\begin{matrix} - 2 \\alpha, 2 \\alpha + 1 \\\\ 2 \\alpha + 2 \\end{matrix}\\middle| {1} \\right)}}^{2} = 0 \\right\\}$"
      ],
      "text/plain": [
       "⎧            ⎛                                                     1          \n",
       "⎪            ⎜                                                     ⌠          \n",
       "⎪            ⎜                                                     ⎮  2⋅α     \n",
       "⎪            ⎜       ┌─  ⎛-2⋅α, 2⋅α + 1 │  ⎞                       ⎮ x   ⋅(x -\n",
       "⎨α | α ∊ ℂ ∧ ⎜- 2⋅α⋅ ├─  ⎜              │ 1⎟⋅polygamma(0, 2⋅α + 1)⋅⎮ ─────────\n",
       "⎪            ⎜      2╵ 1 ⎝   2⋅α + 2    │  ⎠                       ⎮          \n",
       "⎪            ⎜                                                     ⎮          \n",
       "⎪            ⎜                                                     ⌡          \n",
       "⎩            ⎝                                                     0          \n",
       "\n",
       "                                                                              \n",
       "                                                                              \n",
       "   2⋅α ⎛     2                  2          ⎞                                  \n",
       " 1)   ⋅⎝4⋅α⋅x  - 4⋅α⋅x + α - 2⋅x  + 2⋅x - 1⎠           ┌─  ⎛-2⋅α, 2⋅α + 1 │  ⎞\n",
       "──────────────────────────────────────────── dx + 2⋅α⋅ ├─  ⎜              │ 1⎟\n",
       "             2        2                               2╵ 1 ⎝   2⋅α + 2    │  ⎠\n",
       "            x ⋅(x - 1)                                                        \n",
       "                                                                              \n",
       "                                                                              \n",
       "\n",
       "                       1                                                      \n",
       "                       ⌠                                                      \n",
       "                       ⎮  2⋅α        2⋅α ⎛     2                  2          ⎞\n",
       "                       ⎮ x   ⋅(x - 1)   ⋅⎝4⋅α⋅x  - 4⋅α⋅x + α - 2⋅x  + 2⋅x - 1⎠\n",
       "⋅polygamma(0, 2⋅α + 2)⋅⎮ ─────────────────────────────────────────────────────\n",
       "                       ⎮                       2        2                     \n",
       "                       ⎮                      x ⋅(x - 1)                      \n",
       "                       ⌡                                                      \n",
       "                       0                                                      \n",
       "\n",
       "                                 1                                            \n",
       "                                 ⌠                                            \n",
       "                                 ⎮  2⋅α        2⋅α ⎛   2           ⎛     2    \n",
       "         ┌─  ⎛-2⋅α, 2⋅α + 1 │  ⎞ ⎮ x   ⋅(x - 1)   ⋅⎝4⋅x  - 4⋅x + 2⋅⎝4⋅α⋅x  - 4\n",
       " dx + α⋅ ├─  ⎜              │ 1⎟⋅⎮ ───────────────────────────────────────────\n",
       "        2╵ 1 ⎝   2⋅α + 2    │  ⎠ ⎮                                            \n",
       "                                 ⎮                                            \n",
       "                                 ⌡                                            \n",
       "                                 0                                            \n",
       "\n",
       "                                                                              \n",
       "                                                                              \n",
       "              2          ⎞            ⎛     2                  2          ⎞   \n",
       "⋅α⋅x + α - 2⋅x  + 2⋅x - 1⎠⋅log(x) + 2⋅⎝4⋅α⋅x  - 4⋅α⋅x + α - 2⋅x  + 2⋅x - 1⎠⋅lo\n",
       "──────────────────────────────────────────────────────────────────────────────\n",
       "                   2        2                                                 \n",
       "                  x ⋅(x - 1)                                                  \n",
       "                                                                              \n",
       "                                                                              \n",
       "\n",
       "                                                    1                         \n",
       "                                                    ⌠                         \n",
       "            ⎞                                       ⎮  2⋅α        2⋅α ⎛     2 \n",
       "g(x - 1) + 1⎠               ┌─  ⎛-2⋅α, 2⋅α + 1 │  ⎞ ⎮ x   ⋅(x - 1)   ⋅⎝4⋅α⋅x  \n",
       "───────────── dx - 2⋅ⅈ⋅π⋅α⋅ ├─  ⎜              │ 1⎟⋅⎮ ────────────────────────\n",
       "                           2╵ 1 ⎝   2⋅α + 2    │  ⎠ ⎮                       2 \n",
       "                                                    ⎮                      x ⋅\n",
       "                                                    ⌡                         \n",
       "                                                    0                         \n",
       "\n",
       "                                                                  1           \n",
       "                                                                  ⌠           \n",
       "                 2          ⎞                                     ⎮  2⋅α      \n",
       "- 4⋅α⋅x + α - 2⋅x  + 2⋅x - 1⎠        d ⎛ ┌─  ⎛-2⋅α, 2⋅α + 1 │  ⎞⎞ ⎮ x   ⋅(x - \n",
       "───────────────────────────── dx - α⋅──⎜ ├─  ⎜              │ 1⎟⎟⋅⎮ ──────────\n",
       "       2                             dα⎝2╵ 1 ⎝   2⋅α + 2    │  ⎠⎠ ⎮           \n",
       "(x - 1)                                                           ⎮           \n",
       "                                                                  ⌡           \n",
       "                                                                  0           \n",
       "\n",
       "                                                                          1   \n",
       "                                                                          ⌠   \n",
       "  2⋅α ⎛     2                  2          ⎞                               ⎮  2\n",
       "1)   ⋅⎝4⋅α⋅x  - 4⋅α⋅x + α - 2⋅x  + 2⋅x - 1⎠       ┌─  ⎛-2⋅α, 2⋅α + 1 │  ⎞ ⎮ x \n",
       "─────────────────────────────────────────── dx +  ├─  ⎜              │ 1⎟⋅⎮ ──\n",
       "            2        2                           2╵ 1 ⎝   2⋅α + 2    │  ⎠ ⎮   \n",
       "           x ⋅(x - 1)                                                     ⎮   \n",
       "                                                                          ⌡   \n",
       "                                                                          0   \n",
       "\n",
       "                                                      ⎞                 ⎫     \n",
       "                                                      ⎟                 ⎪     \n",
       "⋅α        2⋅α ⎛     2                  2          ⎞   ⎟                 ⎪   ⎧ \n",
       "  ⋅(x - 1)   ⋅⎝4⋅α⋅x  - 4⋅α⋅x + α - 2⋅x  + 2⋅x - 1⎠   ⎟                 ⎪   ⎪ \n",
       "─────────────────────────────────────────────────── dx⎟⋅Γ(2⋅(α + 1)) = 0⎬ \\ ⎨α\n",
       "                    2        2                        ⎟                 ⎪   ⎪ \n",
       "                   x ⋅(x - 1)                         ⎟                 ⎪   ⎩ \n",
       "                                                      ⎟                 ⎪     \n",
       "                                                      ⎠                 ⎭     \n",
       "\n",
       "                                                             \n",
       "                                                             \n",
       "                                                       2    ⎫\n",
       "            2⋅ⅈ⋅π⋅α             ┌─  ⎛-2⋅α, 2⋅α + 1 │  ⎞     ⎪\n",
       " | α ∊ ℂ ∧ ℯ       ⋅Γ(2⋅α + 1)⋅ ├─  ⎜              │ 1⎟  = 0⎬\n",
       "                               2╵ 1 ⎝   2⋅α + 2    │  ⎠     ⎪\n",
       "                                                            ⎭\n",
       "                                                             \n",
       "                                                             "
      ]
     },
     "execution_count": 53,
     "metadata": {},
     "output_type": "execute_result"
    }
   ],
   "source": [
    "sym.solveset(sym.diff(E_trial2,alpha))"
   ]
  },
  {
   "cell_type": "code",
   "execution_count": null,
   "metadata": {},
   "outputs": [],
   "source": []
  },
  {
   "cell_type": "markdown",
   "metadata": {},
   "source": [
    "Your descriptions/explanations here"
   ]
  },
  {
   "cell_type": "markdown",
   "metadata": {},
   "source": [
    "### 2.4 Exercise: Design your own wavefunction!"
   ]
  },
  {
   "cell_type": "markdown",
   "metadata": {},
   "source": [
    "**Now you get to make your own wavefunction!**\n",
    "\n",
    "The only guidance I would give you is that it make sense mathematically and that it include $\\alpha$ so that you can minimize the energy.\n",
    "\n",
    "Remember that $a$ and $x$ are both length units, and that trigonometric, logarithmic, and exponential functions are all unitless  \n",
    "\n",
    "\n",
    "Using your new wavefunction:\n",
    "\n",
    "1. Find the minimum energy, $E_{trial}$\n",
    "2. Plot the new trial wavefunction and compare it to the true solution and the wavefunction you found above\n",
    "3. Compare you new energy to the trial energy you found above\n",
    "4. Which wavefunction is better? How do you know?"
   ]
  },
  {
   "cell_type": "code",
   "execution_count": 27,
   "metadata": {},
   "outputs": [],
   "source": [
    "import sympy as sym\n",
    "a,x,alpha = sym.symbols('a,x,alpha')\n",
    "sym.Rational(1/2)\n",
    "sym.init_printing()"
   ]
  },
  {
   "cell_type": "code",
   "execution_count": 29,
   "metadata": {},
   "outputs": [
    {
     "data": {
      "image/png": "[encoded data removed]",
      "text/latex": [
       "$\\displaystyle x^{2} \\left(- a + x\\right)^{\\alpha}$"
      ],
      "text/plain": [
       " 2         α\n",
       "x ⋅(-a + x) "
      ]
     },
     "execution_count": 29,
     "metadata": {},
     "output_type": "execute_result"
    }
   ],
   "source": [
    "patsywavefunction = (x**2)*(x-a)**alpha\n",
    "patsywavefunction"
   ]
  },
  {
   "cell_type": "code",
   "execution_count": 35,
   "metadata": {},
   "outputs": [],
   "source": [
    "num1 = (patsywavefunction*sym.Rational(-1/2))\n",
    "num2 = sym.diff(sym.diff(patsywavefunction,x),x)\n",
    "den1 = (patsywavefunction**2)"
   ]
  },
  {
   "cell_type": "code",
   "execution_count": 36,
   "metadata": {},
   "outputs": [],
   "source": [
    "value = (num1*num2)"
   ]
  },
  {
   "cell_type": "code",
   "execution_count": 55,
   "metadata": {},
   "outputs": [
    {
     "ename": "TypeError",
     "evalue": "Argument must be a Basic object, not `NoneType`",
     "output_type": "error",
     "traceback": [
      "\u001b[0;31m---------------------------------------------------------------------------\u001b[0m",
      "\u001b[0;31mSympifyError\u001b[0m                              Traceback (most recent call last)",
      "\u001b[0;32m//anaconda3/lib/python3.7/site-packages/sympy/core/basic.py\u001b[0m in \u001b[0;36mas_Basic\u001b[0;34m(expr)\u001b[0m\n\u001b[1;32m     21\u001b[0m     \u001b[0;32mtry\u001b[0m\u001b[0;34m:\u001b[0m\u001b[0;34m\u001b[0m\u001b[0;34m\u001b[0m\u001b[0m\n\u001b[0;32m---> 22\u001b[0;31m         \u001b[0;32mreturn\u001b[0m \u001b[0m_sympify\u001b[0m\u001b[0;34m(\u001b[0m\u001b[0mexpr\u001b[0m\u001b[0;34m)\u001b[0m\u001b[0;34m\u001b[0m\u001b[0;34m\u001b[0m\u001b[0m\n\u001b[0m\u001b[1;32m     23\u001b[0m     \u001b[0;32mexcept\u001b[0m \u001b[0mSympifyError\u001b[0m\u001b[0;34m:\u001b[0m\u001b[0;34m\u001b[0m\u001b[0;34m\u001b[0m\u001b[0m\n",
      "\u001b[0;32m//anaconda3/lib/python3.7/site-packages/sympy/core/sympify.py\u001b[0m in \u001b[0;36m_sympify\u001b[0;34m(a)\u001b[0m\n\u001b[1;32m    416\u001b[0m     \"\"\"\n\u001b[0;32m--> 417\u001b[0;31m     \u001b[0;32mreturn\u001b[0m \u001b[0msympify\u001b[0m\u001b[0;34m(\u001b[0m\u001b[0ma\u001b[0m\u001b[0;34m,\u001b[0m \u001b[0mstrict\u001b[0m\u001b[0;34m=\u001b[0m\u001b[0;32mTrue\u001b[0m\u001b[0;34m)\u001b[0m\u001b[0;34m\u001b[0m\u001b[0;34m\u001b[0m\u001b[0m\n\u001b[0m\u001b[1;32m    418\u001b[0m \u001b[0;34m\u001b[0m\u001b[0m\n",
      "\u001b[0;32m//anaconda3/lib/python3.7/site-packages/sympy/core/sympify.py\u001b[0m in \u001b[0;36msympify\u001b[0;34m(a, locals, convert_xor, strict, rational, evaluate)\u001b[0m\n\u001b[1;32m    278\u001b[0m         \u001b[0;32mif\u001b[0m \u001b[0mstrict\u001b[0m\u001b[0;34m:\u001b[0m\u001b[0;34m\u001b[0m\u001b[0;34m\u001b[0m\u001b[0m\n\u001b[0;32m--> 279\u001b[0;31m             \u001b[0;32mraise\u001b[0m \u001b[0mSympifyError\u001b[0m\u001b[0;34m(\u001b[0m\u001b[0ma\u001b[0m\u001b[0;34m)\u001b[0m\u001b[0;34m\u001b[0m\u001b[0;34m\u001b[0m\u001b[0m\n\u001b[0m\u001b[1;32m    280\u001b[0m         \u001b[0;32melse\u001b[0m\u001b[0;34m:\u001b[0m\u001b[0;34m\u001b[0m\u001b[0;34m\u001b[0m\u001b[0m\n",
      "\u001b[0;31mSympifyError\u001b[0m: SympifyError: None",
      "\nDuring handling of the above exception, another exception occurred:\n",
      "\u001b[0;31mTypeError\u001b[0m                                 Traceback (most recent call last)",
      "\u001b[0;32m<ipython-input-55-2c5c5d138dd9>\u001b[0m in \u001b[0;36m<module>\u001b[0;34m\u001b[0m\n\u001b[0;32m----> 1\u001b[0;31m \u001b[0mNumerator\u001b[0m \u001b[0;34m=\u001b[0m \u001b[0msym\u001b[0m\u001b[0;34m.\u001b[0m\u001b[0mintegrate\u001b[0m\u001b[0;34m(\u001b[0m\u001b[0;34m(\u001b[0m\u001b[0mvalue\u001b[0m\u001b[0;34m)\u001b[0m\u001b[0;34m,\u001b[0m\u001b[0;34m(\u001b[0m\u001b[0mx\u001b[0m\u001b[0;34m,\u001b[0m\u001b[0;36m0\u001b[0m\u001b[0;34m,\u001b[0m\u001b[0ma\u001b[0m\u001b[0;34m)\u001b[0m\u001b[0;34m)\u001b[0m\u001b[0;34m\u001b[0m\u001b[0;34m\u001b[0m\u001b[0m\n\u001b[0m",
      "\u001b[0;32m//anaconda3/lib/python3.7/site-packages/sympy/integrals/integrals.py\u001b[0m in \u001b[0;36mintegrate\u001b[0;34m(*args, **kwargs)\u001b[0m\n\u001b[1;32m   1475\u001b[0m \u001b[0;34m\u001b[0m\u001b[0m\n\u001b[1;32m   1476\u001b[0m     \u001b[0;32mif\u001b[0m \u001b[0misinstance\u001b[0m\u001b[0;34m(\u001b[0m\u001b[0mintegral\u001b[0m\u001b[0;34m,\u001b[0m \u001b[0mIntegral\u001b[0m\u001b[0;34m)\u001b[0m\u001b[0;34m:\u001b[0m\u001b[0;34m\u001b[0m\u001b[0;34m\u001b[0m\u001b[0m\n\u001b[0;32m-> 1477\u001b[0;31m         \u001b[0;32mreturn\u001b[0m \u001b[0mintegral\u001b[0m\u001b[0;34m.\u001b[0m\u001b[0mdoit\u001b[0m\u001b[0;34m(\u001b[0m\u001b[0;34m**\u001b[0m\u001b[0mdoit_flags\u001b[0m\u001b[0;34m)\u001b[0m\u001b[0;34m\u001b[0m\u001b[0;34m\u001b[0m\u001b[0m\n\u001b[0m\u001b[1;32m   1478\u001b[0m     \u001b[0;32melse\u001b[0m\u001b[0;34m:\u001b[0m\u001b[0;34m\u001b[0m\u001b[0;34m\u001b[0m\u001b[0m\n\u001b[1;32m   1479\u001b[0m         new_args = [a.doit(**doit_flags) if isinstance(a, Integral) else a\n",
      "\u001b[0;32m//anaconda3/lib/python3.7/site-packages/sympy/integrals/integrals.py\u001b[0m in \u001b[0;36mdoit\u001b[0;34m(self, **hints)\u001b[0m\n\u001b[1;32m    539\u001b[0m                 \u001b[0;32melse\u001b[0m\u001b[0;34m:\u001b[0m\u001b[0;34m\u001b[0m\u001b[0;34m\u001b[0m\u001b[0m\n\u001b[1;32m    540\u001b[0m                     antideriv = self._eval_integral(\n\u001b[0;32m--> 541\u001b[0;31m                         function, xab[0], **eval_kwargs)\n\u001b[0m\u001b[1;32m    542\u001b[0m                     \u001b[0;32mif\u001b[0m \u001b[0mantideriv\u001b[0m \u001b[0;32mis\u001b[0m \u001b[0;32mNone\u001b[0m \u001b[0;32mand\u001b[0m \u001b[0mmeijerg\u001b[0m \u001b[0;32mis\u001b[0m \u001b[0;32mTrue\u001b[0m\u001b[0;34m:\u001b[0m\u001b[0;34m\u001b[0m\u001b[0;34m\u001b[0m\u001b[0m\n\u001b[1;32m    543\u001b[0m                         \u001b[0mret\u001b[0m \u001b[0;34m=\u001b[0m \u001b[0mtry_meijerg\u001b[0m\u001b[0;34m(\u001b[0m\u001b[0mfunction\u001b[0m\u001b[0;34m,\u001b[0m \u001b[0mxab\u001b[0m\u001b[0;34m)\u001b[0m\u001b[0;34m\u001b[0m\u001b[0;34m\u001b[0m\u001b[0m\n",
      "\u001b[0;32m//anaconda3/lib/python3.7/site-packages/sympy/integrals/integrals.py\u001b[0m in \u001b[0;36m_eval_integral\u001b[0;34m(self, f, x, meijerg, risch, manual, heurisch, conds)\u001b[0m\n\u001b[1;32m    996\u001b[0m                     \u001b[0;32mtry\u001b[0m\u001b[0;34m:\u001b[0m\u001b[0;34m\u001b[0m\u001b[0;34m\u001b[0m\u001b[0m\n\u001b[1;32m    997\u001b[0m                         \u001b[0;32mif\u001b[0m \u001b[0mconds\u001b[0m \u001b[0;34m==\u001b[0m \u001b[0;34m'piecewise'\u001b[0m\u001b[0;34m:\u001b[0m\u001b[0;34m\u001b[0m\u001b[0;34m\u001b[0m\u001b[0m\n\u001b[0;32m--> 998\u001b[0;31m                             \u001b[0mh\u001b[0m \u001b[0;34m=\u001b[0m \u001b[0mheurisch_wrapper\u001b[0m\u001b[0;34m(\u001b[0m\u001b[0mg\u001b[0m\u001b[0;34m,\u001b[0m \u001b[0mx\u001b[0m\u001b[0;34m,\u001b[0m \u001b[0mhints\u001b[0m\u001b[0;34m=\u001b[0m\u001b[0;34m[\u001b[0m\u001b[0;34m]\u001b[0m\u001b[0;34m)\u001b[0m\u001b[0;34m\u001b[0m\u001b[0;34m\u001b[0m\u001b[0m\n\u001b[0m\u001b[1;32m    999\u001b[0m                         \u001b[0;32melse\u001b[0m\u001b[0;34m:\u001b[0m\u001b[0;34m\u001b[0m\u001b[0;34m\u001b[0m\u001b[0m\n\u001b[1;32m   1000\u001b[0m                             \u001b[0mh\u001b[0m \u001b[0;34m=\u001b[0m \u001b[0mheurisch_\u001b[0m\u001b[0;34m(\u001b[0m\u001b[0mg\u001b[0m\u001b[0;34m,\u001b[0m \u001b[0mx\u001b[0m\u001b[0;34m,\u001b[0m \u001b[0mhints\u001b[0m\u001b[0;34m=\u001b[0m\u001b[0;34m[\u001b[0m\u001b[0;34m]\u001b[0m\u001b[0;34m)\u001b[0m\u001b[0;34m\u001b[0m\u001b[0;34m\u001b[0m\u001b[0m\n",
      "\u001b[0;32m//anaconda3/lib/python3.7/site-packages/sympy/integrals/heurisch.py\u001b[0m in \u001b[0;36mheurisch_wrapper\u001b[0;34m(f, x, rewrite, hints, mappings, retries, degree_offset, unnecessary_permutations)\u001b[0m\n\u001b[1;32m    179\u001b[0m                               degree_offset, unnecessary_permutations),\n\u001b[1;32m    180\u001b[0m                               True))\n\u001b[0;32m--> 181\u001b[0;31m     \u001b[0;32mreturn\u001b[0m \u001b[0mPiecewise\u001b[0m\u001b[0;34m(\u001b[0m\u001b[0;34m*\u001b[0m\u001b[0mpairs\u001b[0m\u001b[0;34m)\u001b[0m\u001b[0;34m\u001b[0m\u001b[0;34m\u001b[0m\u001b[0m\n\u001b[0m\u001b[1;32m    182\u001b[0m \u001b[0;34m\u001b[0m\u001b[0m\n\u001b[1;32m    183\u001b[0m \u001b[0;32mclass\u001b[0m \u001b[0mBesselTable\u001b[0m\u001b[0;34m(\u001b[0m\u001b[0mobject\u001b[0m\u001b[0;34m)\u001b[0m\u001b[0;34m:\u001b[0m\u001b[0;34m\u001b[0m\u001b[0;34m\u001b[0m\u001b[0m\n",
      "\u001b[0;32m//anaconda3/lib/python3.7/site-packages/sympy/functions/elementary/piecewise.py\u001b[0m in \u001b[0;36m__new__\u001b[0;34m(cls, *args, **options)\u001b[0m\n\u001b[1;32m    132\u001b[0m         \u001b[0;32mfor\u001b[0m \u001b[0mec\u001b[0m \u001b[0;32min\u001b[0m \u001b[0margs\u001b[0m\u001b[0;34m:\u001b[0m\u001b[0;34m\u001b[0m\u001b[0;34m\u001b[0m\u001b[0m\n\u001b[1;32m    133\u001b[0m             \u001b[0;31m# ec could be a ExprCondPair or a tuple\u001b[0m\u001b[0;34m\u001b[0m\u001b[0;34m\u001b[0m\u001b[0;34m\u001b[0m\u001b[0m\n\u001b[0;32m--> 134\u001b[0;31m             \u001b[0mpair\u001b[0m \u001b[0;34m=\u001b[0m \u001b[0mExprCondPair\u001b[0m\u001b[0;34m(\u001b[0m\u001b[0;34m*\u001b[0m\u001b[0mgetattr\u001b[0m\u001b[0;34m(\u001b[0m\u001b[0mec\u001b[0m\u001b[0;34m,\u001b[0m \u001b[0;34m'args'\u001b[0m\u001b[0;34m,\u001b[0m \u001b[0mec\u001b[0m\u001b[0;34m)\u001b[0m\u001b[0;34m)\u001b[0m\u001b[0;34m\u001b[0m\u001b[0;34m\u001b[0m\u001b[0m\n\u001b[0m\u001b[1;32m    135\u001b[0m             \u001b[0mcond\u001b[0m \u001b[0;34m=\u001b[0m \u001b[0mpair\u001b[0m\u001b[0;34m.\u001b[0m\u001b[0mcond\u001b[0m\u001b[0;34m\u001b[0m\u001b[0;34m\u001b[0m\u001b[0m\n\u001b[1;32m    136\u001b[0m             \u001b[0;32mif\u001b[0m \u001b[0mcond\u001b[0m \u001b[0;32mis\u001b[0m \u001b[0mfalse\u001b[0m\u001b[0;34m:\u001b[0m\u001b[0;34m\u001b[0m\u001b[0;34m\u001b[0m\u001b[0m\n",
      "\u001b[0;32m//anaconda3/lib/python3.7/site-packages/sympy/functions/elementary/piecewise.py\u001b[0m in \u001b[0;36m__new__\u001b[0;34m(cls, expr, cond)\u001b[0m\n\u001b[1;32m     20\u001b[0m \u001b[0;34m\u001b[0m\u001b[0m\n\u001b[1;32m     21\u001b[0m     \u001b[0;32mdef\u001b[0m \u001b[0m__new__\u001b[0m\u001b[0;34m(\u001b[0m\u001b[0mcls\u001b[0m\u001b[0;34m,\u001b[0m \u001b[0mexpr\u001b[0m\u001b[0;34m,\u001b[0m \u001b[0mcond\u001b[0m\u001b[0;34m)\u001b[0m\u001b[0;34m:\u001b[0m\u001b[0;34m\u001b[0m\u001b[0;34m\u001b[0m\u001b[0m\n\u001b[0;32m---> 22\u001b[0;31m         \u001b[0mexpr\u001b[0m \u001b[0;34m=\u001b[0m \u001b[0mas_Basic\u001b[0m\u001b[0;34m(\u001b[0m\u001b[0mexpr\u001b[0m\u001b[0;34m)\u001b[0m\u001b[0;34m\u001b[0m\u001b[0;34m\u001b[0m\u001b[0m\n\u001b[0m\u001b[1;32m     23\u001b[0m         \u001b[0;32mif\u001b[0m \u001b[0mcond\u001b[0m \u001b[0;34m==\u001b[0m \u001b[0;32mTrue\u001b[0m\u001b[0;34m:\u001b[0m\u001b[0;34m\u001b[0m\u001b[0;34m\u001b[0m\u001b[0m\n\u001b[1;32m     24\u001b[0m             \u001b[0;32mreturn\u001b[0m \u001b[0mTuple\u001b[0m\u001b[0;34m.\u001b[0m\u001b[0m__new__\u001b[0m\u001b[0;34m(\u001b[0m\u001b[0mcls\u001b[0m\u001b[0;34m,\u001b[0m \u001b[0mexpr\u001b[0m\u001b[0;34m,\u001b[0m \u001b[0mtrue\u001b[0m\u001b[0;34m)\u001b[0m\u001b[0;34m\u001b[0m\u001b[0;34m\u001b[0m\u001b[0m\n",
      "\u001b[0;32m//anaconda3/lib/python3.7/site-packages/sympy/core/basic.py\u001b[0m in \u001b[0;36mas_Basic\u001b[0;34m(expr)\u001b[0m\n\u001b[1;32m     24\u001b[0m         raise TypeError(\n\u001b[1;32m     25\u001b[0m             'Argument must be a Basic object, not `%s`' % func_name(\n\u001b[0;32m---> 26\u001b[0;31m             expr))\n\u001b[0m\u001b[1;32m     27\u001b[0m \u001b[0;34m\u001b[0m\u001b[0m\n\u001b[1;32m     28\u001b[0m \u001b[0;34m\u001b[0m\u001b[0m\n",
      "\u001b[0;31mTypeError\u001b[0m: Argument must be a Basic object, not `NoneType`"
     ]
    }
   ],
   "source": [
    "Numerator = sym.integrate((value),(x,0,a))"
   ]
  },
  {
   "cell_type": "code",
   "execution_count": 56,
   "metadata": {},
   "outputs": [],
   "source": [
    "Denominator = sym.integrate((den1),(x,0,a))"
   ]
  },
  {
   "cell_type": "code",
   "execution_count": 57,
   "metadata": {},
   "outputs": [
    {
     "data": {
      "text/latex": [
       "$\\displaystyle \\left(\\frac{1.42081447963801 \\alpha^{2}}{a} - \\frac{1.68831168831169 \\alpha}{a} + \\frac{0.2 \\left(- 10.0 \\alpha - 3.0\\right)}{a} + \\frac{0.111111111111111 \\left(- 10.0 \\alpha^{2} + 36.0 \\alpha\\right)}{a} + \\frac{1.0}{a}\\right) \\left(\\begin{cases} \\frac{1}{- \\log{\\left(- a \\right)} - \\infty \\operatorname{sign}{\\left(a^{4} \\right)} - \\frac{25}{12}} & \\text{for}\\: \\alpha = - \\frac{5}{2} \\\\\\frac{1}{- 4 a \\log{\\left(- a \\right)} - \\frac{4 a}{3} + \\infty \\operatorname{sign}{\\left(a^{4} \\right)}} & \\text{for}\\: \\alpha = -2 \\\\\\frac{1}{- 6 a^{2} \\log{\\left(- a \\right)} - 3 a^{2} - \\infty \\operatorname{sign}{\\left(a^{4} \\right)}} & \\text{for}\\: \\alpha = - \\frac{3}{2} \\\\\\frac{1}{- 4 a^{3} \\log{\\left(- a \\right)} - 4 a^{3} + \\infty \\operatorname{sign}{\\left(a^{4} \\right)}} & \\text{for}\\: \\alpha = -1 \\\\\\frac{1}{- a^{4} \\log{\\left(- a \\right)} - \\infty \\operatorname{sign}{\\left(a^{4} \\right)}} & \\text{for}\\: \\alpha = - \\frac{1}{2} \\\\\\frac{\\left(- a\\right)^{- 2 \\alpha} \\left(8 \\alpha^{5} + 60 \\alpha^{4} + 170 \\alpha^{3} + 225 \\alpha^{2} + 137 \\alpha + 30\\right)}{6 a^{5}} & \\text{otherwise} \\end{cases}\\right)$"
      ],
      "text/plain": [
       "                                                                              \n",
       "                                                                              \n",
       "                                                                              \n",
       "                                                                              \n",
       "                                                                              \n",
       "                                                                              \n",
       "                                                                              \n",
       "                                                                              \n",
       "                                                                              \n",
       "                                                                              \n",
       "                                                                              \n",
       "                                                                              \n",
       "                                                                              \n",
       "                                                                              \n",
       "⎛                  2                                                          \n",
       "⎜1.42081447963801⋅α    1.68831168831169⋅α   0.2⋅(-10.0⋅α - 3.0)   0.1111111111\n",
       "⎜─────────────────── - ────────────────── + ─────────────────── + ────────────\n",
       "⎝         a                    a                     a                        \n",
       "                                                                              \n",
       "                                                                              \n",
       "                                                                              \n",
       "                                                                              \n",
       "                                                                              \n",
       "                                                                              \n",
       "                                                                              \n",
       "                                                                              \n",
       "                                                                              \n",
       "                                                                              \n",
       "                                                                              \n",
       "                                                                              \n",
       "                                                                              \n",
       "                                                                              \n",
       "                                                                              \n",
       "\n",
       "                                  ⎛⎧                          1               \n",
       "                                  ⎜⎪              ──────────────────────────  \n",
       "                                  ⎜⎪                               ⎛ 4⎞   25  \n",
       "                                  ⎜⎪              -log(-a) - ∞⋅sign⎝a ⎠ - ──  \n",
       "                                  ⎜⎪                                      12  \n",
       "                                  ⎜⎪                                          \n",
       "                                  ⎜⎪                          1               \n",
       "                                  ⎜⎪           ───────────────────────────────\n",
       "                                  ⎜⎪                          4⋅a         ⎛ 4⎞\n",
       "                                  ⎜⎪           -4⋅a⋅log(-a) - ─── + ∞⋅sign⎝a ⎠\n",
       "                                  ⎜⎪                           3              \n",
       "                                  ⎜⎪                                          \n",
       "                                  ⎜⎪                          1               \n",
       "                                  ⎜⎪          ────────────────────────────────\n",
       "      ⎛        2         ⎞      ⎞ ⎜⎪               2              2         ⎛ \n",
       "11111⋅⎝- 10.0⋅α  + 36.0⋅α⎠   1.0⎟ ⎜⎪          - 6⋅a ⋅log(-a) - 3⋅a  - ∞⋅sign⎝a\n",
       "────────────────────────── + ───⎟⋅⎜⎨                                          \n",
       "      a                       a ⎠ ⎜⎪                          1               \n",
       "                                  ⎜⎪          ────────────────────────────────\n",
       "                                  ⎜⎪               3              3         ⎛ \n",
       "                                  ⎜⎪          - 4⋅a ⋅log(-a) - 4⋅a  + ∞⋅sign⎝a\n",
       "                                  ⎜⎪                                          \n",
       "                                  ⎜⎪                          1               \n",
       "                                  ⎜⎪              ─────────────────────────   \n",
       "                                  ⎜⎪                 4                 ⎛ 4⎞   \n",
       "                                  ⎜⎪              - a ⋅log(-a) - ∞⋅sign⎝a ⎠   \n",
       "                                  ⎜⎪                                          \n",
       "                                  ⎜⎪    -2⋅α ⎛   5       4        3        2  \n",
       "                                  ⎜⎪(-a)    ⋅⎝8⋅α  + 60⋅α  + 170⋅α  + 225⋅α  +\n",
       "                                  ⎜⎪──────────────────────────────────────────\n",
       "                                  ⎜⎪                            5             \n",
       "                                  ⎜⎪                         6⋅a              \n",
       "                                  ⎝⎩                                          \n",
       "\n",
       "                          ⎞\n",
       "              for α = -5/2⎟\n",
       "                          ⎟\n",
       "                          ⎟\n",
       "                          ⎟\n",
       "                          ⎟\n",
       "                          ⎟\n",
       "               for α = -2 ⎟\n",
       "                          ⎟\n",
       "                          ⎟\n",
       "                          ⎟\n",
       "                          ⎟\n",
       "                          ⎟\n",
       "──            for α = -3/2⎟\n",
       "4⎞                        ⎟\n",
       " ⎠                        ⎟\n",
       "                          ⎟\n",
       "                          ⎟\n",
       "──             for α = -1 ⎟\n",
       "4⎞                        ⎟\n",
       " ⎠                        ⎟\n",
       "                          ⎟\n",
       "                          ⎟\n",
       "              for α = -1/2⎟\n",
       "                          ⎟\n",
       "                          ⎟\n",
       "                          ⎟\n",
       "           ⎞              ⎟\n",
       " 137⋅α + 30⎠              ⎟\n",
       "────────────   otherwise  ⎟\n",
       "                          ⎟\n",
       "                          ⎟\n",
       "                          ⎠"
      ]
     },
     "execution_count": 57,
     "metadata": {},
     "output_type": "execute_result"
    }
   ],
   "source": [
    "Numerator/Denominator"
   ]
  },
  {
   "cell_type": "code",
   "execution_count": 58,
   "metadata": {},
   "outputs": [
    {
     "data": {
      "text/latex": [
       "$\\displaystyle \\left(0.309703368526898 \\alpha^{2} + 0.311688311688312 \\alpha + 0.4\\right) \\left(\\begin{cases} \\frac{1}{-\\infty - i \\pi} & \\text{for}\\: \\alpha = - \\frac{5}{2} \\\\\\frac{1}{\\infty - 4 i \\pi} & \\text{for}\\: \\alpha = -2 \\\\\\frac{1}{-\\infty - 6 i \\pi} & \\text{for}\\: \\alpha = - \\frac{3}{2} \\\\\\frac{1}{\\infty - 4 i \\pi} & \\text{for}\\: \\alpha = -1 \\\\\\frac{1}{-\\infty - i \\pi} & \\text{for}\\: \\alpha = - \\frac{1}{2} \\\\\\frac{\\left(-1\\right)^{- 2 \\alpha} \\left(8 \\alpha^{5} + 60 \\alpha^{4} + 170 \\alpha^{3} + 225 \\alpha^{2} + 137 \\alpha + 30\\right)}{6} & \\text{otherwise} \\end{cases}\\right)$"
      ],
      "text/plain": [
       "                                                   ⎛⎧                         \n",
       "                                                   ⎜⎪                       ──\n",
       "                                                   ⎜⎪                       -∞\n",
       "                                                   ⎜⎪                         \n",
       "                                                   ⎜⎪                         \n",
       "                                                   ⎜⎪                      ───\n",
       "                                                   ⎜⎪                      ∞ -\n",
       "                                                   ⎜⎪                         \n",
       "                                                   ⎜⎪                         \n",
       "                                                   ⎜⎪                      ───\n",
       "                                                   ⎜⎪                      -∞ \n",
       "⎛                   2                            ⎞ ⎜⎪                         \n",
       "⎝0.309703368526898⋅α  + 0.311688311688312⋅α + 0.4⎠⋅⎜⎨                         \n",
       "                                                   ⎜⎪                      ───\n",
       "                                                   ⎜⎪                      ∞ -\n",
       "                                                   ⎜⎪                         \n",
       "                                                   ⎜⎪                         \n",
       "                                                   ⎜⎪                       ──\n",
       "                                                   ⎜⎪                       -∞\n",
       "                                                   ⎜⎪                         \n",
       "                                                   ⎜⎪    -2⋅α ⎛   5       4   \n",
       "                                                   ⎜⎪(-1)    ⋅⎝8⋅α  + 60⋅α  + \n",
       "                                                   ⎜⎪─────────────────────────\n",
       "                                                   ⎜⎪                         \n",
       "                                                   ⎝⎩                         \n",
       "\n",
       " 1                                         ⎞\n",
       "──────                         for α = -5/2⎟\n",
       " - ⅈ⋅π                                     ⎟\n",
       "                                           ⎟\n",
       " 1                                         ⎟\n",
       "──────                          for α = -2 ⎟\n",
       " 4⋅ⅈ⋅π                                     ⎟\n",
       "                                           ⎟\n",
       " 1                                         ⎟\n",
       "───────                        for α = -3/2⎟\n",
       "- 6⋅ⅈ⋅π                                    ⎟\n",
       "                                           ⎟\n",
       " 1                                         ⎟\n",
       "──────                          for α = -1 ⎟\n",
       " 4⋅ⅈ⋅π                                     ⎟\n",
       "                                           ⎟\n",
       " 1                                         ⎟\n",
       "──────                         for α = -1/2⎟\n",
       " - ⅈ⋅π                                     ⎟\n",
       "                                           ⎟\n",
       "     3        2             ⎞              ⎟\n",
       "170⋅α  + 225⋅α  + 137⋅α + 30⎠              ⎟\n",
       "─────────────────────────────   otherwise  ⎟\n",
       " 6                                         ⎟\n",
       "                                           ⎠"
      ]
     },
     "execution_count": 58,
     "metadata": {},
     "output_type": "execute_result"
    }
   ],
   "source": [
    "E_trial = (Numerator/Denominator).subs(a,1)\n",
    "E_trial"
   ]
  },
  {
   "cell_type": "code",
   "execution_count": 60,
   "metadata": {},
   "outputs": [
    {
     "ename": "ValueError",
     "evalue": "y cannot take value as 0",
     "output_type": "error",
     "traceback": [
      "\u001b[0;31m---------------------------------------------------------------------------\u001b[0m",
      "\u001b[0;31mValueError\u001b[0m                                Traceback (most recent call last)",
      "\u001b[0;32m<ipython-input-60-2fc31e4dca2d>\u001b[0m in \u001b[0;36m<module>\u001b[0;34m\u001b[0m\n\u001b[0;32m----> 1\u001b[0;31m \u001b[0msym\u001b[0m\u001b[0;34m.\u001b[0m\u001b[0msolveset\u001b[0m\u001b[0;34m(\u001b[0m\u001b[0msym\u001b[0m\u001b[0;34m.\u001b[0m\u001b[0mdiff\u001b[0m\u001b[0;34m(\u001b[0m\u001b[0mE_trial\u001b[0m\u001b[0;34m,\u001b[0m\u001b[0malpha\u001b[0m\u001b[0;34m)\u001b[0m\u001b[0;34m)\u001b[0m\u001b[0;34m\u001b[0m\u001b[0;34m\u001b[0m\u001b[0m\n\u001b[0m",
      "\u001b[0;32m//anaconda3/lib/python3.7/site-packages/sympy/solvers/solveset.py\u001b[0m in \u001b[0;36msolveset\u001b[0;34m(f, symbol, domain)\u001b[0m\n\u001b[1;32m   1712\u001b[0m     \u001b[0mf\u001b[0m \u001b[0;34m=\u001b[0m \u001b[0mpiecewise_fold\u001b[0m\u001b[0;34m(\u001b[0m\u001b[0mf\u001b[0m\u001b[0;34m)\u001b[0m\u001b[0;34m\u001b[0m\u001b[0;34m\u001b[0m\u001b[0m\n\u001b[1;32m   1713\u001b[0m \u001b[0;34m\u001b[0m\u001b[0m\n\u001b[0;32m-> 1714\u001b[0;31m     \u001b[0;32mreturn\u001b[0m \u001b[0m_solveset\u001b[0m\u001b[0;34m(\u001b[0m\u001b[0mf\u001b[0m\u001b[0;34m,\u001b[0m \u001b[0msymbol\u001b[0m\u001b[0;34m,\u001b[0m \u001b[0mdomain\u001b[0m\u001b[0;34m,\u001b[0m \u001b[0m_check\u001b[0m\u001b[0;34m=\u001b[0m\u001b[0;32mTrue\u001b[0m\u001b[0;34m)\u001b[0m\u001b[0;34m\u001b[0m\u001b[0;34m\u001b[0m\u001b[0m\n\u001b[0m\u001b[1;32m   1715\u001b[0m \u001b[0;34m\u001b[0m\u001b[0m\n\u001b[1;32m   1716\u001b[0m \u001b[0;34m\u001b[0m\u001b[0m\n",
      "\u001b[0;32m//anaconda3/lib/python3.7/site-packages/sympy/solvers/solveset.py\u001b[0m in \u001b[0;36m_solveset\u001b[0;34m(f, symbol, domain, _check)\u001b[0m\n\u001b[1;32m    911\u001b[0m             \u001b[0;32mif\u001b[0m \u001b[0min_set\u001b[0m\u001b[0;34m.\u001b[0m\u001b[0mis_Relational\u001b[0m\u001b[0;34m:\u001b[0m\u001b[0;34m\u001b[0m\u001b[0;34m\u001b[0m\u001b[0m\n\u001b[1;32m    912\u001b[0m                 \u001b[0min_set\u001b[0m \u001b[0;34m=\u001b[0m \u001b[0min_set\u001b[0m\u001b[0;34m.\u001b[0m\u001b[0mas_set\u001b[0m\u001b[0;34m(\u001b[0m\u001b[0;34m)\u001b[0m\u001b[0;34m\u001b[0m\u001b[0;34m\u001b[0m\u001b[0m\n\u001b[0;32m--> 913\u001b[0;31m             \u001b[0msolns\u001b[0m \u001b[0;34m=\u001b[0m \u001b[0msolver\u001b[0m\u001b[0;34m(\u001b[0m\u001b[0mexpr\u001b[0m\u001b[0;34m,\u001b[0m \u001b[0msymbol\u001b[0m\u001b[0;34m,\u001b[0m \u001b[0min_set\u001b[0m\u001b[0;34m)\u001b[0m\u001b[0;34m\u001b[0m\u001b[0;34m\u001b[0m\u001b[0m\n\u001b[0m\u001b[1;32m    914\u001b[0m             \u001b[0mresult\u001b[0m \u001b[0;34m+=\u001b[0m \u001b[0msolns\u001b[0m\u001b[0;34m\u001b[0m\u001b[0;34m\u001b[0m\u001b[0m\n\u001b[1;32m    915\u001b[0m     \u001b[0;32melif\u001b[0m \u001b[0misinstance\u001b[0m\u001b[0;34m(\u001b[0m\u001b[0mf\u001b[0m\u001b[0;34m,\u001b[0m \u001b[0mEq\u001b[0m\u001b[0;34m)\u001b[0m\u001b[0;34m:\u001b[0m\u001b[0;34m\u001b[0m\u001b[0;34m\u001b[0m\u001b[0m\n",
      "\u001b[0;32m//anaconda3/lib/python3.7/site-packages/sympy/solvers/solveset.py\u001b[0m in \u001b[0;36m<lambda>\u001b[0;34m(f, x, domain)\u001b[0m\n\u001b[1;32m    881\u001b[0m \u001b[0;34m\u001b[0m\u001b[0m\n\u001b[1;32m    882\u001b[0m     \u001b[0;31m# assign the solvers to use\u001b[0m\u001b[0;34m\u001b[0m\u001b[0;34m\u001b[0m\u001b[0;34m\u001b[0m\u001b[0m\n\u001b[0;32m--> 883\u001b[0;31m     \u001b[0msolver\u001b[0m \u001b[0;34m=\u001b[0m \u001b[0;32mlambda\u001b[0m \u001b[0mf\u001b[0m\u001b[0;34m,\u001b[0m \u001b[0mx\u001b[0m\u001b[0;34m,\u001b[0m \u001b[0mdomain\u001b[0m\u001b[0;34m=\u001b[0m\u001b[0mdomain\u001b[0m\u001b[0;34m:\u001b[0m \u001b[0m_solveset\u001b[0m\u001b[0;34m(\u001b[0m\u001b[0mf\u001b[0m\u001b[0;34m,\u001b[0m \u001b[0mx\u001b[0m\u001b[0;34m,\u001b[0m \u001b[0mdomain\u001b[0m\u001b[0;34m)\u001b[0m\u001b[0;34m\u001b[0m\u001b[0;34m\u001b[0m\u001b[0m\n\u001b[0m\u001b[1;32m    884\u001b[0m     \u001b[0minverter\u001b[0m \u001b[0;34m=\u001b[0m \u001b[0;32mlambda\u001b[0m \u001b[0mf\u001b[0m\u001b[0;34m,\u001b[0m \u001b[0mrhs\u001b[0m\u001b[0;34m,\u001b[0m \u001b[0msymbol\u001b[0m\u001b[0;34m:\u001b[0m \u001b[0m_invert\u001b[0m\u001b[0;34m(\u001b[0m\u001b[0mf\u001b[0m\u001b[0;34m,\u001b[0m \u001b[0mrhs\u001b[0m\u001b[0;34m,\u001b[0m \u001b[0msymbol\u001b[0m\u001b[0;34m,\u001b[0m \u001b[0mdomain\u001b[0m\u001b[0;34m)\u001b[0m\u001b[0;34m\u001b[0m\u001b[0;34m\u001b[0m\u001b[0m\n\u001b[1;32m    885\u001b[0m \u001b[0;34m\u001b[0m\u001b[0m\n",
      "\u001b[0;32m//anaconda3/lib/python3.7/site-packages/sympy/solvers/solveset.py\u001b[0m in \u001b[0;36m_solveset\u001b[0;34m(f, symbol, domain, _check)\u001b[0m\n\u001b[1;32m    898\u001b[0m         \u001b[0;31m# wrong solutions we are using this technique only if both f and g are\u001b[0m\u001b[0;34m\u001b[0m\u001b[0;34m\u001b[0m\u001b[0;34m\u001b[0m\u001b[0m\n\u001b[1;32m    899\u001b[0m         \u001b[0;31m# finite for a finite input.\u001b[0m\u001b[0;34m\u001b[0m\u001b[0;34m\u001b[0m\u001b[0;34m\u001b[0m\u001b[0m\n\u001b[0;32m--> 900\u001b[0;31m         \u001b[0mresult\u001b[0m \u001b[0;34m=\u001b[0m \u001b[0mUnion\u001b[0m\u001b[0;34m(\u001b[0m\u001b[0;34m*\u001b[0m\u001b[0;34m[\u001b[0m\u001b[0msolver\u001b[0m\u001b[0;34m(\u001b[0m\u001b[0mm\u001b[0m\u001b[0;34m,\u001b[0m \u001b[0msymbol\u001b[0m\u001b[0;34m)\u001b[0m \u001b[0;32mfor\u001b[0m \u001b[0mm\u001b[0m \u001b[0;32min\u001b[0m \u001b[0mf\u001b[0m\u001b[0;34m.\u001b[0m\u001b[0margs\u001b[0m\u001b[0;34m]\u001b[0m\u001b[0;34m)\u001b[0m\u001b[0;34m\u001b[0m\u001b[0;34m\u001b[0m\u001b[0m\n\u001b[0m\u001b[1;32m    901\u001b[0m     \u001b[0;32melif\u001b[0m \u001b[0m_is_function_class_equation\u001b[0m\u001b[0;34m(\u001b[0m\u001b[0mTrigonometricFunction\u001b[0m\u001b[0;34m,\u001b[0m \u001b[0mf\u001b[0m\u001b[0;34m,\u001b[0m \u001b[0msymbol\u001b[0m\u001b[0;34m)\u001b[0m \u001b[0;32mor\u001b[0m\u001b[0;31m \u001b[0m\u001b[0;31m\\\u001b[0m\u001b[0;34m\u001b[0m\u001b[0;34m\u001b[0m\u001b[0m\n\u001b[1;32m    902\u001b[0m             \u001b[0m_is_function_class_equation\u001b[0m\u001b[0;34m(\u001b[0m\u001b[0mHyperbolicFunction\u001b[0m\u001b[0;34m,\u001b[0m \u001b[0mf\u001b[0m\u001b[0;34m,\u001b[0m \u001b[0msymbol\u001b[0m\u001b[0;34m)\u001b[0m\u001b[0;34m:\u001b[0m\u001b[0;34m\u001b[0m\u001b[0;34m\u001b[0m\u001b[0m\n",
      "\u001b[0;32m//anaconda3/lib/python3.7/site-packages/sympy/solvers/solveset.py\u001b[0m in \u001b[0;36m<listcomp>\u001b[0;34m(.0)\u001b[0m\n\u001b[1;32m    898\u001b[0m         \u001b[0;31m# wrong solutions we are using this technique only if both f and g are\u001b[0m\u001b[0;34m\u001b[0m\u001b[0;34m\u001b[0m\u001b[0;34m\u001b[0m\u001b[0m\n\u001b[1;32m    899\u001b[0m         \u001b[0;31m# finite for a finite input.\u001b[0m\u001b[0;34m\u001b[0m\u001b[0;34m\u001b[0m\u001b[0;34m\u001b[0m\u001b[0m\n\u001b[0;32m--> 900\u001b[0;31m         \u001b[0mresult\u001b[0m \u001b[0;34m=\u001b[0m \u001b[0mUnion\u001b[0m\u001b[0;34m(\u001b[0m\u001b[0;34m*\u001b[0m\u001b[0;34m[\u001b[0m\u001b[0msolver\u001b[0m\u001b[0;34m(\u001b[0m\u001b[0mm\u001b[0m\u001b[0;34m,\u001b[0m \u001b[0msymbol\u001b[0m\u001b[0;34m)\u001b[0m \u001b[0;32mfor\u001b[0m \u001b[0mm\u001b[0m \u001b[0;32min\u001b[0m \u001b[0mf\u001b[0m\u001b[0;34m.\u001b[0m\u001b[0margs\u001b[0m\u001b[0;34m]\u001b[0m\u001b[0;34m)\u001b[0m\u001b[0;34m\u001b[0m\u001b[0;34m\u001b[0m\u001b[0m\n\u001b[0m\u001b[1;32m    901\u001b[0m     \u001b[0;32melif\u001b[0m \u001b[0m_is_function_class_equation\u001b[0m\u001b[0;34m(\u001b[0m\u001b[0mTrigonometricFunction\u001b[0m\u001b[0;34m,\u001b[0m \u001b[0mf\u001b[0m\u001b[0;34m,\u001b[0m \u001b[0msymbol\u001b[0m\u001b[0;34m)\u001b[0m \u001b[0;32mor\u001b[0m\u001b[0;31m \u001b[0m\u001b[0;31m\\\u001b[0m\u001b[0;34m\u001b[0m\u001b[0;34m\u001b[0m\u001b[0m\n\u001b[1;32m    902\u001b[0m             \u001b[0m_is_function_class_equation\u001b[0m\u001b[0;34m(\u001b[0m\u001b[0mHyperbolicFunction\u001b[0m\u001b[0;34m,\u001b[0m \u001b[0mf\u001b[0m\u001b[0;34m,\u001b[0m \u001b[0msymbol\u001b[0m\u001b[0;34m)\u001b[0m\u001b[0;34m:\u001b[0m\u001b[0;34m\u001b[0m\u001b[0;34m\u001b[0m\u001b[0m\n",
      "\u001b[0;32m//anaconda3/lib/python3.7/site-packages/sympy/solvers/solveset.py\u001b[0m in \u001b[0;36m<lambda>\u001b[0;34m(f, x, domain)\u001b[0m\n\u001b[1;32m    881\u001b[0m \u001b[0;34m\u001b[0m\u001b[0m\n\u001b[1;32m    882\u001b[0m     \u001b[0;31m# assign the solvers to use\u001b[0m\u001b[0;34m\u001b[0m\u001b[0;34m\u001b[0m\u001b[0;34m\u001b[0m\u001b[0m\n\u001b[0;32m--> 883\u001b[0;31m     \u001b[0msolver\u001b[0m \u001b[0;34m=\u001b[0m \u001b[0;32mlambda\u001b[0m \u001b[0mf\u001b[0m\u001b[0;34m,\u001b[0m \u001b[0mx\u001b[0m\u001b[0;34m,\u001b[0m \u001b[0mdomain\u001b[0m\u001b[0;34m=\u001b[0m\u001b[0mdomain\u001b[0m\u001b[0;34m:\u001b[0m \u001b[0m_solveset\u001b[0m\u001b[0;34m(\u001b[0m\u001b[0mf\u001b[0m\u001b[0;34m,\u001b[0m \u001b[0mx\u001b[0m\u001b[0;34m,\u001b[0m \u001b[0mdomain\u001b[0m\u001b[0;34m)\u001b[0m\u001b[0;34m\u001b[0m\u001b[0;34m\u001b[0m\u001b[0m\n\u001b[0m\u001b[1;32m    884\u001b[0m     \u001b[0minverter\u001b[0m \u001b[0;34m=\u001b[0m \u001b[0;32mlambda\u001b[0m \u001b[0mf\u001b[0m\u001b[0;34m,\u001b[0m \u001b[0mrhs\u001b[0m\u001b[0;34m,\u001b[0m \u001b[0msymbol\u001b[0m\u001b[0;34m:\u001b[0m \u001b[0m_invert\u001b[0m\u001b[0;34m(\u001b[0m\u001b[0mf\u001b[0m\u001b[0;34m,\u001b[0m \u001b[0mrhs\u001b[0m\u001b[0;34m,\u001b[0m \u001b[0msymbol\u001b[0m\u001b[0;34m,\u001b[0m \u001b[0mdomain\u001b[0m\u001b[0;34m)\u001b[0m\u001b[0;34m\u001b[0m\u001b[0;34m\u001b[0m\u001b[0m\n\u001b[1;32m    885\u001b[0m \u001b[0;34m\u001b[0m\u001b[0m\n",
      "\u001b[0;32m//anaconda3/lib/python3.7/site-packages/sympy/solvers/solveset.py\u001b[0m in \u001b[0;36m_solveset\u001b[0;34m(f, symbol, domain, _check)\u001b[0m\n\u001b[1;32m    929\u001b[0m         \u001b[0;32mreturn\u001b[0m \u001b[0mresult\u001b[0m\u001b[0;34m\u001b[0m\u001b[0;34m\u001b[0m\u001b[0m\n\u001b[1;32m    930\u001b[0m     \u001b[0;32melse\u001b[0m\u001b[0;34m:\u001b[0m\u001b[0;34m\u001b[0m\u001b[0;34m\u001b[0m\u001b[0m\n\u001b[0;32m--> 931\u001b[0;31m         \u001b[0mlhs\u001b[0m\u001b[0;34m,\u001b[0m \u001b[0mrhs_s\u001b[0m \u001b[0;34m=\u001b[0m \u001b[0minverter\u001b[0m\u001b[0;34m(\u001b[0m\u001b[0mf\u001b[0m\u001b[0;34m,\u001b[0m \u001b[0;36m0\u001b[0m\u001b[0;34m,\u001b[0m \u001b[0msymbol\u001b[0m\u001b[0;34m)\u001b[0m\u001b[0;34m\u001b[0m\u001b[0;34m\u001b[0m\u001b[0m\n\u001b[0m\u001b[1;32m    932\u001b[0m         \u001b[0;32mif\u001b[0m \u001b[0mlhs\u001b[0m \u001b[0;34m==\u001b[0m \u001b[0msymbol\u001b[0m\u001b[0;34m:\u001b[0m\u001b[0;34m\u001b[0m\u001b[0;34m\u001b[0m\u001b[0m\n\u001b[1;32m    933\u001b[0m             \u001b[0;31m# do some very minimal simplification since\u001b[0m\u001b[0;34m\u001b[0m\u001b[0;34m\u001b[0m\u001b[0;34m\u001b[0m\u001b[0m\n",
      "\u001b[0;32m//anaconda3/lib/python3.7/site-packages/sympy/solvers/solveset.py\u001b[0m in \u001b[0;36m<lambda>\u001b[0;34m(f, rhs, symbol)\u001b[0m\n\u001b[1;32m    882\u001b[0m     \u001b[0;31m# assign the solvers to use\u001b[0m\u001b[0;34m\u001b[0m\u001b[0;34m\u001b[0m\u001b[0;34m\u001b[0m\u001b[0m\n\u001b[1;32m    883\u001b[0m     \u001b[0msolver\u001b[0m \u001b[0;34m=\u001b[0m \u001b[0;32mlambda\u001b[0m \u001b[0mf\u001b[0m\u001b[0;34m,\u001b[0m \u001b[0mx\u001b[0m\u001b[0;34m,\u001b[0m \u001b[0mdomain\u001b[0m\u001b[0;34m=\u001b[0m\u001b[0mdomain\u001b[0m\u001b[0;34m:\u001b[0m \u001b[0m_solveset\u001b[0m\u001b[0;34m(\u001b[0m\u001b[0mf\u001b[0m\u001b[0;34m,\u001b[0m \u001b[0mx\u001b[0m\u001b[0;34m,\u001b[0m \u001b[0mdomain\u001b[0m\u001b[0;34m)\u001b[0m\u001b[0;34m\u001b[0m\u001b[0;34m\u001b[0m\u001b[0m\n\u001b[0;32m--> 884\u001b[0;31m     \u001b[0minverter\u001b[0m \u001b[0;34m=\u001b[0m \u001b[0;32mlambda\u001b[0m \u001b[0mf\u001b[0m\u001b[0;34m,\u001b[0m \u001b[0mrhs\u001b[0m\u001b[0;34m,\u001b[0m \u001b[0msymbol\u001b[0m\u001b[0;34m:\u001b[0m \u001b[0m_invert\u001b[0m\u001b[0;34m(\u001b[0m\u001b[0mf\u001b[0m\u001b[0;34m,\u001b[0m \u001b[0mrhs\u001b[0m\u001b[0;34m,\u001b[0m \u001b[0msymbol\u001b[0m\u001b[0;34m,\u001b[0m \u001b[0mdomain\u001b[0m\u001b[0;34m)\u001b[0m\u001b[0;34m\u001b[0m\u001b[0;34m\u001b[0m\u001b[0m\n\u001b[0m\u001b[1;32m    885\u001b[0m \u001b[0;34m\u001b[0m\u001b[0m\n\u001b[1;32m    886\u001b[0m     \u001b[0mresult\u001b[0m \u001b[0;34m=\u001b[0m \u001b[0mEmptySet\u001b[0m\u001b[0;34m(\u001b[0m\u001b[0;34m)\u001b[0m\u001b[0;34m\u001b[0m\u001b[0;34m\u001b[0m\u001b[0m\n",
      "\u001b[0;32m//anaconda3/lib/python3.7/site-packages/sympy/solvers/solveset.py\u001b[0m in \u001b[0;36m_invert\u001b[0;34m(f_x, y, x, domain)\u001b[0m\n\u001b[1;32m    154\u001b[0m \u001b[0;34m\u001b[0m\u001b[0m\n\u001b[1;32m    155\u001b[0m     \u001b[0;32mif\u001b[0m \u001b[0mdomain\u001b[0m\u001b[0;34m.\u001b[0m\u001b[0mis_subset\u001b[0m\u001b[0;34m(\u001b[0m\u001b[0mS\u001b[0m\u001b[0;34m.\u001b[0m\u001b[0mReals\u001b[0m\u001b[0;34m)\u001b[0m\u001b[0;34m:\u001b[0m\u001b[0;34m\u001b[0m\u001b[0;34m\u001b[0m\u001b[0m\n\u001b[0;32m--> 156\u001b[0;31m         \u001b[0mx1\u001b[0m\u001b[0;34m,\u001b[0m \u001b[0ms\u001b[0m \u001b[0;34m=\u001b[0m \u001b[0m_invert_real\u001b[0m\u001b[0;34m(\u001b[0m\u001b[0mf_x\u001b[0m\u001b[0;34m,\u001b[0m \u001b[0mFiniteSet\u001b[0m\u001b[0;34m(\u001b[0m\u001b[0my\u001b[0m\u001b[0;34m)\u001b[0m\u001b[0;34m,\u001b[0m \u001b[0mx\u001b[0m\u001b[0;34m)\u001b[0m\u001b[0;34m\u001b[0m\u001b[0;34m\u001b[0m\u001b[0m\n\u001b[0m\u001b[1;32m    157\u001b[0m     \u001b[0;32melse\u001b[0m\u001b[0;34m:\u001b[0m\u001b[0;34m\u001b[0m\u001b[0;34m\u001b[0m\u001b[0m\n\u001b[1;32m    158\u001b[0m         \u001b[0mx1\u001b[0m\u001b[0;34m,\u001b[0m \u001b[0ms\u001b[0m \u001b[0;34m=\u001b[0m \u001b[0m_invert_complex\u001b[0m\u001b[0;34m(\u001b[0m\u001b[0mf_x\u001b[0m\u001b[0;34m,\u001b[0m \u001b[0mFiniteSet\u001b[0m\u001b[0;34m(\u001b[0m\u001b[0my\u001b[0m\u001b[0;34m)\u001b[0m\u001b[0;34m,\u001b[0m \u001b[0mx\u001b[0m\u001b[0;34m)\u001b[0m\u001b[0;34m\u001b[0m\u001b[0;34m\u001b[0m\u001b[0m\n",
      "\u001b[0;32m//anaconda3/lib/python3.7/site-packages/sympy/solvers/solveset.py\u001b[0m in \u001b[0;36m_invert_real\u001b[0;34m(f, g_ys, symbol)\u001b[0m\n\u001b[1;32m    246\u001b[0m             \u001b[0;32melif\u001b[0m \u001b[0mbase\u001b[0m\u001b[0;34m.\u001b[0m\u001b[0mis_negative\u001b[0m\u001b[0;34m:\u001b[0m\u001b[0;34m\u001b[0m\u001b[0;34m\u001b[0m\u001b[0m\n\u001b[1;32m    247\u001b[0m                 \u001b[0;32mfrom\u001b[0m \u001b[0msympy\u001b[0m\u001b[0;34m.\u001b[0m\u001b[0mcore\u001b[0m\u001b[0;34m.\u001b[0m\u001b[0mpower\u001b[0m \u001b[0;32mimport\u001b[0m \u001b[0minteger_log\u001b[0m\u001b[0;34m\u001b[0m\u001b[0;34m\u001b[0m\u001b[0m\n\u001b[0;32m--> 248\u001b[0;31m                 \u001b[0ms\u001b[0m\u001b[0;34m,\u001b[0m \u001b[0mb\u001b[0m \u001b[0;34m=\u001b[0m \u001b[0minteger_log\u001b[0m\u001b[0;34m(\u001b[0m\u001b[0mrhs\u001b[0m\u001b[0;34m,\u001b[0m \u001b[0mbase\u001b[0m\u001b[0;34m)\u001b[0m\u001b[0;34m\u001b[0m\u001b[0;34m\u001b[0m\u001b[0m\n\u001b[0m\u001b[1;32m    249\u001b[0m                 \u001b[0;32mif\u001b[0m \u001b[0mb\u001b[0m\u001b[0;34m:\u001b[0m\u001b[0;34m\u001b[0m\u001b[0;34m\u001b[0m\u001b[0m\n\u001b[1;32m    250\u001b[0m                     \u001b[0;32mreturn\u001b[0m \u001b[0m_invert_real\u001b[0m\u001b[0;34m(\u001b[0m\u001b[0mexpo\u001b[0m\u001b[0;34m,\u001b[0m \u001b[0mFiniteSet\u001b[0m\u001b[0;34m(\u001b[0m\u001b[0ms\u001b[0m\u001b[0;34m)\u001b[0m\u001b[0;34m,\u001b[0m \u001b[0msymbol\u001b[0m\u001b[0;34m)\u001b[0m\u001b[0;34m\u001b[0m\u001b[0;34m\u001b[0m\u001b[0m\n",
      "\u001b[0;32m//anaconda3/lib/python3.7/site-packages/sympy/core/power.py\u001b[0m in \u001b[0;36minteger_log\u001b[0;34m(y, x)\u001b[0m\n\u001b[1;32m    128\u001b[0m         \u001b[0;32mraise\u001b[0m \u001b[0mValueError\u001b[0m\u001b[0;34m(\u001b[0m\u001b[0;34m'x cannot take value as 1'\u001b[0m\u001b[0;34m)\u001b[0m\u001b[0;34m\u001b[0m\u001b[0;34m\u001b[0m\u001b[0m\n\u001b[1;32m    129\u001b[0m     \u001b[0;32mif\u001b[0m \u001b[0my\u001b[0m \u001b[0;34m==\u001b[0m \u001b[0;36m0\u001b[0m\u001b[0;34m:\u001b[0m\u001b[0;34m\u001b[0m\u001b[0;34m\u001b[0m\u001b[0m\n\u001b[0;32m--> 130\u001b[0;31m         \u001b[0;32mraise\u001b[0m \u001b[0mValueError\u001b[0m\u001b[0;34m(\u001b[0m\u001b[0;34m'y cannot take value as 0'\u001b[0m\u001b[0;34m)\u001b[0m\u001b[0;34m\u001b[0m\u001b[0;34m\u001b[0m\u001b[0m\n\u001b[0m\u001b[1;32m    131\u001b[0m \u001b[0;34m\u001b[0m\u001b[0m\n\u001b[1;32m    132\u001b[0m     \u001b[0;32mif\u001b[0m \u001b[0mx\u001b[0m \u001b[0;32min\u001b[0m \u001b[0;34m(\u001b[0m\u001b[0;34m-\u001b[0m\u001b[0;36m2\u001b[0m\u001b[0;34m,\u001b[0m \u001b[0;36m2\u001b[0m\u001b[0;34m)\u001b[0m\u001b[0;34m:\u001b[0m\u001b[0;34m\u001b[0m\u001b[0;34m\u001b[0m\u001b[0m\n",
      "\u001b[0;31mValueError\u001b[0m: y cannot take value as 0"
     ]
    }
   ],
   "source": [
    "sym.solveset(sym.diff(E_trial,alpha))"
   ]
  },
  {
   "cell_type": "code",
   "execution_count": 1,
   "metadata": {},
   "outputs": [
    {
     "ename": "NameError",
     "evalue": "name 'sym' is not defined",
     "output_type": "error",
     "traceback": [
      "\u001b[0;31m---------------------------------------------------------------------------\u001b[0m",
      "\u001b[0;31mNameError\u001b[0m                                 Traceback (most recent call last)",
      "\u001b[0;32m<ipython-input-1-2fc31e4dca2d>\u001b[0m in \u001b[0;36m<module>\u001b[0;34m\u001b[0m\n\u001b[0;32m----> 1\u001b[0;31m \u001b[0msym\u001b[0m\u001b[0;34m.\u001b[0m\u001b[0msolveset\u001b[0m\u001b[0;34m(\u001b[0m\u001b[0msym\u001b[0m\u001b[0;34m.\u001b[0m\u001b[0mdiff\u001b[0m\u001b[0;34m(\u001b[0m\u001b[0mE_trial\u001b[0m\u001b[0;34m,\u001b[0m\u001b[0malpha\u001b[0m\u001b[0;34m)\u001b[0m\u001b[0;34m)\u001b[0m\u001b[0;34m\u001b[0m\u001b[0;34m\u001b[0m\u001b[0m\n\u001b[0m",
      "\u001b[0;31mNameError\u001b[0m: name 'sym' is not defined"
     ]
    }
   ],
   "source": [
    "sym.solveset(sym.diff(E_trial,alpha))"
   ]
  },
  {
   "cell_type": "code",
   "execution_count": null,
   "metadata": {},
   "outputs": [],
   "source": []
  },
  {
   "cell_type": "markdown",
   "metadata": {},
   "source": [
    "Your descriptions/explanations here"
   ]
  },
  {
   "cell_type": "markdown",
   "metadata": {},
   "source": [
    "# Reading Homework"
   ]
  },
  {
   "cell_type": "markdown",
   "metadata": {},
   "source": [
    "Read the following sections in Kramer\n",
    "\n",
    "- 4.2.3 Born-Oppenheimer approximation\n",
    "- 4.3.2 Secular equation\n",
    "- All of 4.5\n",
    "\n",
    "For each subsection\n",
    "- write down the subchapter name\n",
    "- what was the most important idea\n",
    "- draw an idea digram of the main idea\n",
    "\n",
    "**Make sure to upload this to the assignment repository**\n",
    "\n",
    "Example idea diagram:\n",
    "![Particle in a box](idea_map.png)"
   ]
  },
  {
   "cell_type": "code",
   "execution_count": null,
   "metadata": {},
   "outputs": [],
   "source": []
  }
 ],
 "metadata": {
  "kernelspec": {
   "display_name": "Python 3",
   "language": "python",
   "name": "python3"
  },
  "language_info": {
   "codemirror_mode": {
    "name": "ipython",
    "version": 3
   },
   "file_extension": ".py",
   "mimetype": "text/x-python",
   "name": "python",
   "nbconvert_exporter": "python",
   "pygments_lexer": "ipython3",
   "version": "3.7.3"
  }
 },
 "nbformat": 4,
 "nbformat_minor": 2
}
